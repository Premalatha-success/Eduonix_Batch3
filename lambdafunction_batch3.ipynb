{
 "cells": [
  {
   "cell_type": "code",
   "execution_count": 2,
   "id": "4d7abf14",
   "metadata": {},
   "outputs": [
    {
     "name": "stdout",
     "output_type": "stream",
     "text": [
      "7\n"
     ]
    }
   ],
   "source": [
    "add= lambda num:num+4\n",
    "print(add(3))"
   ]
  },
  {
   "cell_type": "code",
   "execution_count": 6,
   "id": "5ee3145b",
   "metadata": {},
   "outputs": [
    {
     "data": {
      "text/plain": [
       "[21, 87, 25]"
      ]
     },
     "execution_count": 6,
     "metadata": {},
     "output_type": "execute_result"
    }
   ],
   "source": [
    "list1=[21,16,24,87,25]\n",
    "odd_list=list(filter(lambda num:num%2 !=0,list1))\n",
    "odd_list"
   ]
  },
  {
   "cell_type": "code",
   "execution_count": 7,
   "id": "f819085c",
   "metadata": {},
   "outputs": [
    {
     "data": {
      "text/plain": [
       "[441, 256, 576, 7569, 625]"
      ]
     },
     "execution_count": 7,
     "metadata": {},
     "output_type": "execute_result"
    }
   ],
   "source": [
    "list2=[21,16,24,87,25]\n",
    "squared_list=list(map(lambda num:num**2,list2))\n",
    "squared_list"
   ]
  },
  {
   "cell_type": "code",
   "execution_count": 8,
   "id": "89af0bbc",
   "metadata": {},
   "outputs": [
    {
     "data": {
      "text/plain": [
       "2"
      ]
     },
     "execution_count": 8,
     "metadata": {},
     "output_type": "execute_result"
    }
   ],
   "source": [
    "min=lambda x,y: x if (x<y) else y\n",
    "min(2,3)"
   ]
  },
  {
   "cell_type": "code",
   "execution_count": null,
   "id": "d579c931",
   "metadata": {},
   "outputs": [],
   "source": []
  }
 ],
 "metadata": {
  "kernelspec": {
   "display_name": "Python 3 (ipykernel)",
   "language": "python",
   "name": "python3"
  },
  "language_info": {
   "codemirror_mode": {
    "name": "ipython",
    "version": 3
   },
   "file_extension": ".py",
   "mimetype": "text/x-python",
   "name": "python",
   "nbconvert_exporter": "python",
   "pygments_lexer": "ipython3",
   "version": "3.10.9"
  }
 },
 "nbformat": 4,
 "nbformat_minor": 5
}
