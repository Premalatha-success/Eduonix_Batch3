{
 "cells": [
  {
   "cell_type": "markdown",
   "id": "eea00bd2",
   "metadata": {},
   "source": [
    "### For Loop"
   ]
  },
  {
   "cell_type": "code",
   "execution_count": null,
   "id": "ff0111a1",
   "metadata": {},
   "outputs": [],
   "source": [
    "### Sum of squares of numbers"
   ]
  },
  {
   "cell_type": "code",
   "execution_count": null,
   "id": "f384ea86",
   "metadata": {},
   "outputs": [],
   "source": [
    "numbers=[1,2,3,1,5]\n",
    "sum_=0\n",
    "\n",
    "for num in numbers:\n",
    "    sum_=sum_+num**2\n",
    "    \n",
    "sum_"
   ]
  },
  {
   "cell_type": "code",
   "execution_count": null,
   "id": "1dd04ee4",
   "metadata": {},
   "outputs": [],
   "source": [
    "fruits=[\"Apple\",\"Banana\",\"Cherry\"]\n",
    "for fruit in fruits:\n",
    "    print(fruit)"
   ]
  },
  {
   "cell_type": "code",
   "execution_count": null,
   "id": "13490c80",
   "metadata": {},
   "outputs": [],
   "source": [
    "for letter in \"Latha\":\n",
    "    print(letter)"
   ]
  },
  {
   "cell_type": "code",
   "execution_count": null,
   "id": "8c9f549b",
   "metadata": {},
   "outputs": [],
   "source": [
    "for i in range(5):\n",
    "    print(i)"
   ]
  },
  {
   "cell_type": "code",
   "execution_count": null,
   "id": "fedc0e6a",
   "metadata": {},
   "outputs": [],
   "source": [
    "1*3*5*8*9"
   ]
  },
  {
   "cell_type": "code",
   "execution_count": null,
   "id": "268b270b",
   "metadata": {},
   "outputs": [],
   "source": [
    "x = [1,3,5,8,9]\n",
    "product = 1\n",
    "for i in x:\n",
    "    product = product * i\n",
    "    \n",
    "print(product)"
   ]
  },
  {
   "cell_type": "code",
   "execution_count": null,
   "id": "73cdb327",
   "metadata": {},
   "outputs": [],
   "source": [
    "for i in reversed(range(5)):\n",
    "    print(i)"
   ]
  },
  {
   "cell_type": "code",
   "execution_count": null,
   "id": "9ec82fa9",
   "metadata": {},
   "outputs": [],
   "source": [
    "numbers=125\n",
    "cube_root= numbers**(1/3)\n",
    "print(f\"The cube root of {numbers} is: {cube_root}\")"
   ]
  },
  {
   "cell_type": "code",
   "execution_count": null,
   "id": "02429073",
   "metadata": {},
   "outputs": [],
   "source": [
    "my_list=[3,5,6,8,4]\n",
    "\n",
    "for num in range(len(my_list)):\n",
    "    my_list.append(my_list[num]+2)\n",
    "print(my_list)"
   ]
  },
  {
   "cell_type": "markdown",
   "id": "4060f157",
   "metadata": {},
   "source": [
    "### while loop"
   ]
  },
  {
   "cell_type": "code",
   "execution_count": null,
   "id": "be23edab",
   "metadata": {},
   "outputs": [],
   "source": [
    "num=5\n",
    "\n",
    "summation=0\n",
    "\n",
    "c=1\n",
    "\n",
    "while c<=num:\n",
    "    summation=c**2 + summation\n",
    "    c=c+1\n",
    "    \n",
    "print(summation)"
   ]
  },
  {
   "cell_type": "code",
   "execution_count": null,
   "id": "ff2d5114",
   "metadata": {},
   "outputs": [],
   "source": [
    "1**2+2**2+3**2+4**2+5**2"
   ]
  },
  {
   "cell_type": "code",
   "execution_count": null,
   "id": "604d6e9e",
   "metadata": {},
   "outputs": [],
   "source": [
    "num=[12,14,6,7,9,19,25,36]\n",
    "\n",
    "def prime_number(number):\n",
    "    condition = 0\n",
    "    iteration = 2\n",
    "    while iteration <= number / 2:\n",
    "        if number % iteration == 0:  # Corrected this line (removed extra 0)\n",
    "            condition = 1\n",
    "            break\n",
    "        iteration = iteration + 1\n",
    "\n",
    "    if condition == 0:\n",
    "        print(f\"{number} is a PRIME number\")\n",
    "    else:\n",
    "        print(f\"{number} is not a PRIME number\")\n",
    "\n",
    "for i in num:\n",
    "    prime_number(i)\n",
    "\n",
    "    prime_number(i)"
   ]
  },
  {
   "cell_type": "code",
   "execution_count": 2,
   "id": "a60c3fdc",
   "metadata": {},
   "outputs": [
    {
     "name": "stdout",
     "output_type": "stream",
     "text": [
      "(7, 8)\n",
      "(5, 11)\n"
     ]
    }
   ],
   "source": [
    "num1=9\n",
    "num2=5\n",
    "\n",
    "while num1>5 or num2<-5:\n",
    "    num1 -=2\n",
    "    num2 +=3\n",
    "    print((num1,num2))"
   ]
  },
  {
   "cell_type": "code",
   "execution_count": 10,
   "id": "29daffed",
   "metadata": {},
   "outputs": [
    {
     "name": "stdout",
     "output_type": "stream",
     "text": [
      "P\n",
      "y\n",
      "t\n",
      "h\n",
      "o\n",
      "n\n",
      " \n",
      "P\n",
      "r\n",
      "o\n",
      "g\n",
      "r\n"
     ]
    }
   ],
   "source": [
    "for string in \"Python Programming\":\n",
    "    if string==\"a\":\n",
    "        break\n",
    "    print(string)"
   ]
  },
  {
   "cell_type": "code",
   "execution_count": null,
   "id": "68fc720a",
   "metadata": {},
   "outputs": [],
   "source": []
  }
 ],
 "metadata": {
  "kernelspec": {
   "display_name": "Python 3 (ipykernel)",
   "language": "python",
   "name": "python3"
  },
  "language_info": {
   "codemirror_mode": {
    "name": "ipython",
    "version": 3
   },
   "file_extension": ".py",
   "mimetype": "text/x-python",
   "name": "python",
   "nbconvert_exporter": "python",
   "pygments_lexer": "ipython3",
   "version": "3.10.9"
  }
 },
 "nbformat": 4,
 "nbformat_minor": 5
}
