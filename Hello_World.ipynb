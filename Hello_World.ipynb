{
 "cells": [
  {
   "cell_type": "markdown",
   "id": "9381094b",
   "metadata": {},
   "source": [
    "### Print Hello World"
   ]
  },
  {
   "cell_type": "code",
   "execution_count": 1,
   "id": "150e93b5",
   "metadata": {},
   "outputs": [
    {
     "name": "stdout",
     "output_type": "stream",
     "text": [
      "Hello World\n"
     ]
    }
   ],
   "source": [
    "print(\"Hello World\")"
   ]
  },
  {
   "cell_type": "markdown",
   "id": "f7a5b780",
   "metadata": {},
   "source": [
    "### Printing my name"
   ]
  },
  {
   "cell_type": "code",
   "execution_count": 2,
   "id": "9c4f5141",
   "metadata": {},
   "outputs": [
    {
     "name": "stdout",
     "output_type": "stream",
     "text": [
      "'Premalatha'\n"
     ]
    }
   ],
   "source": [
    "print(\"Premalatha\")"
   ]
  },
  {
   "cell_type": "code",
   "execution_count": 3,
   "id": "3b2e397d",
   "metadata": {},
   "outputs": [
    {
     "name": "stdout",
     "output_type": "stream",
     "text": [
      "Premalatha\n"
     ]
    }
   ],
   "source": [
    "print('Premalatha')"
   ]
  },
  {
   "cell_type": "code",
   "execution_count": 4,
   "id": "7f080838",
   "metadata": {},
   "outputs": [
    {
     "ename": "NameError",
     "evalue": "name 'premalatha' is not defined",
     "output_type": "error",
     "traceback": [
      "\u001b[1;31m---------------------------------------------------------------------------\u001b[0m",
      "\u001b[1;31mNameError\u001b[0m                                 Traceback (most recent call last)",
      "Cell \u001b[1;32mIn[4], line 1\u001b[0m\n\u001b[1;32m----> 1\u001b[0m \u001b[38;5;28mprint\u001b[39m(\u001b[43mpremalatha\u001b[49m)\n",
      "\u001b[1;31mNameError\u001b[0m: name 'premalatha' is not defined"
     ]
    }
   ],
   "source": [
    "print(premalatha)"
   ]
  },
  {
   "cell_type": "code",
   "execution_count": 5,
   "id": "9f3c3ee7",
   "metadata": {},
   "outputs": [
    {
     "name": "stdout",
     "output_type": "stream",
     "text": [
      "4\n"
     ]
    }
   ],
   "source": [
    "print(4)"
   ]
  },
  {
   "cell_type": "code",
   "execution_count": 6,
   "id": "dde9806e",
   "metadata": {},
   "outputs": [
    {
     "name": "stdout",
     "output_type": "stream",
     "text": [
      "1.5\n"
     ]
    }
   ],
   "source": [
    "print(1.5)"
   ]
  },
  {
   "cell_type": "code",
   "execution_count": 7,
   "id": "d8f322bc",
   "metadata": {},
   "outputs": [
    {
     "ename": "NameError",
     "evalue": "name 'Print' is not defined",
     "output_type": "error",
     "traceback": [
      "\u001b[1;31m---------------------------------------------------------------------------\u001b[0m",
      "\u001b[1;31mNameError\u001b[0m                                 Traceback (most recent call last)",
      "Cell \u001b[1;32mIn[7], line 1\u001b[0m\n\u001b[1;32m----> 1\u001b[0m \u001b[43mPrint\u001b[49m(\u001b[38;5;241m10\u001b[39m)\n",
      "\u001b[1;31mNameError\u001b[0m: name 'Print' is not defined"
     ]
    }
   ],
   "source": [
    "Print(10)"
   ]
  },
  {
   "cell_type": "code",
   "execution_count": 8,
   "id": "f44f0ff9",
   "metadata": {},
   "outputs": [
    {
     "ename": "NameError",
     "evalue": "name 'PRINT' is not defined",
     "output_type": "error",
     "traceback": [
      "\u001b[1;31m---------------------------------------------------------------------------\u001b[0m",
      "\u001b[1;31mNameError\u001b[0m                                 Traceback (most recent call last)",
      "Cell \u001b[1;32mIn[8], line 1\u001b[0m\n\u001b[1;32m----> 1\u001b[0m \u001b[43mPRINT\u001b[49m(\u001b[38;5;241m10\u001b[39m)\n",
      "\u001b[1;31mNameError\u001b[0m: name 'PRINT' is not defined"
     ]
    }
   ],
   "source": [
    "PRINT(10)"
   ]
  },
  {
   "cell_type": "markdown",
   "id": "9cbeae92",
   "metadata": {},
   "source": [
    "#### Note:String should be enclosed with inverted comma\n",
    "#### Python is casse-sensitive"
   ]
  },
  {
   "cell_type": "markdown",
   "id": "b87fed92",
   "metadata": {},
   "source": [
    "##### Upload to Github:https://www.youtube.com/watch?v=4nKlMmJtgKg"
   ]
  },
  {
   "cell_type": "code",
   "execution_count": null,
   "id": "592de2e3",
   "metadata": {},
   "outputs": [],
   "source": []
  }
 ],
 "metadata": {
  "kernelspec": {
   "display_name": "Python 3 (ipykernel)",
   "language": "python",
   "name": "python3"
  },
  "language_info": {
   "codemirror_mode": {
    "name": "ipython",
    "version": 3
   },
   "file_extension": ".py",
   "mimetype": "text/x-python",
   "name": "python",
   "nbconvert_exporter": "python",
   "pygments_lexer": "ipython3",
   "version": "3.10.9"
  }
 },
 "nbformat": 4,
 "nbformat_minor": 5
}
